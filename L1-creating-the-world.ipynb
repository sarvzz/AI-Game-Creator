{
 "cells": [
  {
   "cell_type": "markdown",
   "id": "f817f7cc-d0ad-4000-a0dd-f4d089a04320",
   "metadata": {},
   "source": [
    "## Hierarchical Content Generation"
   ]
  },
  {
   "cell_type": "markdown",
   "id": "de1e7f66-7c2c-4993-bc9d-834cb32f4b4d",
   "metadata": {},
   "source": [
    "Hierarchical Content Generation allows you to: \n",
    "- create a large amount of content with a small amount input or instructions.\n",
    "- control the narrative with human directions.\n",
    "- be consistent with the content\n",
    "- include previously generated content to make it more holistic "
   ]
  },
  {
   "cell_type": "markdown",
   "id": "417acb29-358f-4213-b81f-0d609750997e",
   "metadata": {},
   "source": [
    "### Creating a World"
   ]
  },
  {
   "cell_type": "code",
   "execution_count": 1,
   "id": "5b992899-c7cc-4d18-a7c5-9a8072911767",
   "metadata": {},
   "outputs": [],
   "source": [
    "system_prompt = f\"\"\"\n",
    "Your job is to help create interesting fantasy worlds that \\\n",
    "players would love to play in.\n",
    "Instructions:\n",
    "- Only generate in plain text without formatting.\n",
    "- Use simple clear language without being flowery.\n",
    "- You must stay below 3-5 sentences for each description.\n",
    "\"\"\""
   ]
  },
  {
   "cell_type": "code",
   "execution_count": 2,
   "id": "31864f10-6611-4390-b032-a6378fd5bbcd",
   "metadata": {},
   "outputs": [],
   "source": [
    "world_prompt = f\"\"\"\n",
    "Generate a creative description for a unique fantasy world with an\n",
    "interesting concept around cities build on the backs of massive beasts.\n",
    "\n",
    "Output content in the form:\n",
    "World Name: <WORLD NAME>\n",
    "World Description: <WORLD DESCRIPTION>\n",
    "\n",
    "World Name:\"\"\"\n"
   ]
  },
  {
   "cell_type": "code",
   "execution_count": 3,
   "id": "6a77912e-49b8-48b6-b739-29106ff66f1f",
   "metadata": {},
   "outputs": [
    {
     "name": "stdout",
     "output_type": "stream",
     "text": [
      "2eafd86cbdfcfe48c936cf08e1804a4310af906b569d78408bd6d779aafb497a\n"
     ]
    }
   ],
   "source": [
    "from helper import get_together_api_key\n",
    "print(get_together_api_key())  # Should print the API key\n"
   ]
  },
  {
   "cell_type": "code",
   "execution_count": 4,
   "id": "f8e01296-75e3-4836-8c60-e1ebdec5f01b",
   "metadata": {},
   "outputs": [],
   "source": [
    "from dotenv import load_dotenv\n",
    "import os\n",
    "\n",
    "def get_together_api_key():\n",
    "    load_dotenv()  # Load the .env file\n",
    "    api_key = os.getenv(\"TOGETHER_API_KEY\")\n",
    "    print(f\"API Key: {api_key}\")  # Debugging line\n",
    "    return api_key"
   ]
  },
  {
   "cell_type": "code",
   "execution_count": 5,
   "id": "918f8413-de1d-42e6-a10b-21d49a11545a",
   "metadata": {},
   "outputs": [
    {
     "name": "stdout",
     "output_type": "stream",
     "text": [
      "2eafd86cbdfcfe48c936cf08e1804a4310af906b569d78408bd6d779aafb497a\n"
     ]
    }
   ],
   "source": [
    "import os\n",
    "os.environ[\"TOGETHER_API_KEY\"] = \"2eafd86cbdfcfe48c936cf08e1804a4310af906b569d78408bd6d779aafb497a\"\n",
    "\n",
    "from helper import get_together_api_key\n",
    "print(get_together_api_key())  # Should print the API key"
   ]
  },
  {
   "cell_type": "code",
   "execution_count": 6,
   "id": "03207a39-1a30-461b-84b8-3a9d616348a4",
   "metadata": {},
   "outputs": [
    {
     "name": "stdout",
     "output_type": "stream",
     "text": [
      "Loaded .env from: /Users/sarvzz/Desktop/AI-Game-Creator/.env\n",
      "API Key: None\n"
     ]
    }
   ],
   "source": [
    "from dotenv import load_dotenv, find_dotenv\n",
    "import os\n",
    "\n",
    "# Explicitly find the .env file\n",
    "dotenv_path = find_dotenv()\n",
    "print(f\"Loaded .env from: {dotenv_path}\")\n",
    "load_dotenv(dotenv_path)\n",
    "\n",
    "api_key = os.getenv(\"API_KEYNAME\")\n",
    "print(f\"API Key: {api_key}\")  # This should print your API key if everything is correct"
   ]
  },
  {
   "cell_type": "code",
   "execution_count": 23,
   "id": "7b6e2ae8-5794-46f8-933f-74c5d5a5b89e",
   "metadata": {},
   "outputs": [],
   "source": [
    "# Call to together API to generate the world\n",
    "\n",
    "from together import Together\n",
    "from helper import get_together_api_key,load_env \n",
    "\n",
    "client = Together(api_key=get_together_api_key())"
   ]
  },
  {
   "cell_type": "code",
   "execution_count": 24,
   "id": "c648809a-905c-48a2-aacd-daf95b188f00",
   "metadata": {},
   "outputs": [],
   "source": [
    "output = client.chat.completions.create(\n",
    "    model=\"meta-llama/Llama-3-70b-chat-hf\",  # Specifying model explicitly\n",
    "    messages=[\n",
    "        {\"role\": \"system\", \"content\": system_prompt},  # Defining system message\n",
    "        {\"role\": \"user\", \"content\": world_prompt}     # User's message\n",
    "    ]\n",
    ")"
   ]
  },
  {
   "cell_type": "code",
   "execution_count": 26,
   "id": "d649d170-f8dc-47db-9faa-98be0d653b4d",
   "metadata": {},
   "outputs": [
    {
     "name": "stdout",
     "output_type": "stream",
     "text": [
      "World Name: Kyropeia\n",
      "\n",
      "World Description: Kyropeia is a realm where ancient, gargantuan creatures known as the \"Colossi\" roam the land, their massive bodies serving as the foundation for sprawling metropolises. These beasts, born from the earth and infused with primal magic, have been domesticated by humans over centuries, allowing cities to be built upon their backs, shoulders, and even within their hollowed-out bodies. As the Colossi migrate across the landscape, the cities they carry adapt, evolving to harness the creatures' innate powers and forming a symbiotic relationship between beast and builder.\n"
     ]
    }
   ],
   "source": [
    "# Print out the created world\n",
    "world_output =output.choices[0].message.content\n",
    "print(world_output)"
   ]
  },
  {
   "cell_type": "code",
   "execution_count": 31,
   "id": "84abe59d-6d14-495c-a346-1c80c9689771",
   "metadata": {},
   "outputs": [],
   "source": [
    "# remove white spaces\n",
    "world_output = world_output.strip()\n",
    "\n",
    "# create a world dictionary with 2 keys: 'name' & 'description'\n",
    "world = {\n",
    "    \"name\": world_output.split('\\n')[0].strip()\n",
    "    .replace('World Name: ', ''),\n",
    "    \"description\": '\\n'.join(world_output.split('\\n')[1:])\n",
    "    .replace('World Description:', '').strip()\n",
    "}"
   ]
  },
  {
   "cell_type": "markdown",
   "id": "d20faa14-9134-4a22-be0b-78cd2043deb6",
   "metadata": {},
   "source": [
    "### Generating Kingdoms"
   ]
  },
  {
   "cell_type": "code",
   "execution_count": 32,
   "id": "e1e0026f-93d5-4bfe-8032-9d7ca8789ae2",
   "metadata": {},
   "outputs": [],
   "source": [
    "kingdom_prompt = f\"\"\"\n",
    "Create 3 different kingdoms for a fantasy world.\n",
    "For each kingdom generate a description based on the world it's in. \\\n",
    "Describe important leaders, cultures, history of the kingdom.\\\n",
    "\n",
    "Output content in the form:\n",
    "Kingdom 1 Name: <KINGDOM NAME>\n",
    "Kingdom 1 Description: <KINGDOM DESCRIPTION>\n",
    "Kingdom 2 Name: <KINGDOM NAME>\n",
    "Kingdom 2 Description: <KINGDOM DESCRIPTION>\n",
    "Kingdom 3 Name: <KINGDOM NAME>\n",
    "Kingdom 3 Description: <KINGDOM DESCRIPTION>\n",
    "\n",
    "World Name: {world['name']}\n",
    "World Description: {world['description']}\n",
    "\n",
    "Kingdom 1\"\"\""
   ]
  },
  {
   "cell_type": "code",
   "execution_count": 33,
   "id": "df4a9468-2e7c-4955-baff-7fa5835730f3",
   "metadata": {},
   "outputs": [],
   "source": [
    "output = client.chat.completions.create(\n",
    "    model=\"meta-llama/Llama-3-70b-chat-hf\",\n",
    "    messages=[\n",
    "        {\"role\": \"system\", \"content\": system_prompt},\n",
    "        {\"role\": \"user\", \"content\": kingdom_prompt}\n",
    "    ],\n",
    ")"
   ]
  },
  {
   "cell_type": "code",
   "execution_count": 34,
   "id": "c925697e-923a-41c9-b79e-12f532a182de",
   "metadata": {},
   "outputs": [
    {
     "name": "stdout",
     "output_type": "stream",
     "text": [
      "Created kingdom \"Eldrida\" in Kyropeia\n",
      "Created kingdom \"Valtoria\" in Kyropeia\n",
      "Created kingdom \"Luminaria\" in Kyropeia\n",
      "\n",
      "Kingdom 1 Description: Luminaria is a mystical kingdom perched upon the shoulders of the luminous Colossus, Elyria. The Luminarians have developed a deep connection with Elyria's radiant energy, allowing them to wield powerful magic and craft wondrous illusions. Led by the benevolent King Orion, Luminaria is a place of wonder and enchantment, where artists and mystics come to tap into the Colossus's essence and unlock the secrets of the universe.\n"
     ]
    }
   ],
   "source": [
    "# parse the output for different kingdoms\n",
    "\n",
    "kingdoms = {}\n",
    "kingdoms_output = output.choices[0].message.content\n",
    "\n",
    "for output in kingdoms_output.split('\\n\\n'):\n",
    "  kingdom_name = output.strip().split('\\n')[0] \\\n",
    "    .split('Name: ')[1].strip()\n",
    "  print(f'Created kingdom \"{kingdom_name}\" in {world[\"name\"]}')\n",
    "  kingdom_description = output.strip().split('\\n')[1] \\\n",
    "    .split('Description: ')[1].strip()\n",
    "  kingdom = {\n",
    "      \"name\": kingdom_name,\n",
    "      \"description\": kingdom_description,\n",
    "      \"world\": world['name']\n",
    "  }\n",
    "  kingdoms[kingdom_name] = kingdom\n",
    "world['kingdoms'] = kingdoms\n",
    "\n",
    "print(f'\\nKingdom 1 Description: \\\n",
    "{kingdom[\"description\"]}')"
   ]
  },
  {
   "cell_type": "markdown",
   "id": "9a20e89f-1319-4add-b0e4-6ad079257cc2",
   "metadata": {},
   "source": [
    "### Generating Towns"
   ]
  },
  {
   "cell_type": "code",
   "execution_count": 36,
   "id": "75cefc3b-205e-4193-865e-ab5bb36eec4d",
   "metadata": {},
   "outputs": [],
   "source": [
    "def get_town_prompt(world, kingdom):\n",
    "    return f\"\"\"\n",
    "    Create 3 different towns for a fantasy kingdom and world. \\\n",
    "    Describe the region it's in, important places of the town, \\\n",
    "    and interesting history about it. \\\n",
    "    \n",
    "    Output content in the form:\n",
    "    Town 1 Name: <TOWN NAME>\n",
    "    Town 1 Description: <TOWN DESCRIPTION>\n",
    "    Town 2 Name: <TOWN NAME>\n",
    "    Town 2 Description: <TOWN DESCRIPTION>\n",
    "    Town 3 Name: <TOWN NAME>\n",
    "    Town 3 Description: <TOWN DESCRIPTION>\n",
    "    \n",
    "    World Name: {world['name']}\n",
    "    World Description: {world['description']}\n",
    "    \n",
    "    Kingdom Name: {kingdom['name']}\n",
    "    Kingdom Description {kingdom['description']}\n",
    "    \n",
    "    Town 1 Name:\"\"\""
   ]
  },
  {
   "cell_type": "code",
   "execution_count": 37,
   "id": "b1878523-b93e-41c0-b21d-88ed04c24246",
   "metadata": {},
   "outputs": [],
   "source": [
    "def create_towns(world, kingdom):\n",
    "    print(f'\\nCreating towns for kingdom: {kingdom[\"name\"]}...')\n",
    "    output = client.chat.completions.create(\n",
    "      model=\"meta-llama/Llama-3-70b-chat-hf\",\n",
    "      messages=[\n",
    "          {\"role\": \"system\", \"content\": system_prompt},\n",
    "          {\"role\": \"user\", \"content\": get_town_prompt(world, kingdom)}\n",
    "      ],\n",
    "  )\n",
    "    towns_output = output.choices[0].message.content\n",
    "    \n",
    "    towns = {}\n",
    "    for output in towns_output.split('\\n\\n'):\n",
    "        town_name = output.strip().split('\\n')[0]\\\n",
    "        .split('Name: ')[1].strip()\n",
    "        print(f'- {town_name} created')\n",
    "        \n",
    "        town_description = output.strip().split('\\n')[1]\\\n",
    "        .split('Description: ')[1].strip()\n",
    "        \n",
    "        town = {\n",
    "          \"name\": town_name,\n",
    "          \"description\": town_description,\n",
    "          \"world\": world['name'],\n",
    "          \"kingdom\": kingdom['name']\n",
    "        }\n",
    "        towns[town_name] = town\n",
    "    kingdom[\"towns\"] = towns"
   ]
  },
  {
   "cell_type": "code",
   "execution_count": 39,
   "id": "9a83521d-3a12-4c22-89c7-52e86c8f57d8",
   "metadata": {},
   "outputs": [
    {
     "name": "stdout",
     "output_type": "stream",
     "text": [
      "\n",
      "Creating towns for kingdom: Eldrida...\n",
      "- Nova Haven created\n",
      "- Luminaria created\n",
      "- Ironhollow created\n",
      "\n",
      "Creating towns for kingdom: Valtoria...\n",
      "- Khaosgate created\n",
      "- Ironhaven created\n",
      "- Emberwatch created\n",
      "\n",
      "Creating towns for kingdom: Luminaria...\n",
      "- Lumin's Rest created\n",
      "- Starhaven created\n",
      "- Emberhaven created\n",
      "\n",
      "Town 1 Description: Located on the gentle slope of Elyria's shoulder, Lumin's Rest is a charming town surrounded by lush gardens and sparkling fountains. The town is home to the prestigious Academy of Luminous Arts, where students come to master the intricacies of illusion magic. The town's central square features a magnificent statue of King Orion, and its bustling marketplaces are filled with exotic goods and rare artifacts.\n"
     ]
    }
   ],
   "source": [
    "# creating towns for kingdom\n",
    "\n",
    "for kingdom in kingdoms.values():\n",
    "    create_towns(world, kingdom)  \n",
    "\n",
    "town = list(kingdom['towns'].values())[0]\n",
    "print(f'\\nTown 1 Description: \\\n",
    "{town[\"description\"]}')"
   ]
  },
  {
   "cell_type": "markdown",
   "id": "ce0dfaff-2531-408f-b48e-0c5f1c128269",
   "metadata": {},
   "source": [
    "### Generating Non-Player Characters (NPC's)"
   ]
  },
  {
   "cell_type": "code",
   "execution_count": 40,
   "id": "60374756-6582-4a3e-a710-3bdc69abee4c",
   "metadata": {},
   "outputs": [],
   "source": [
    "def get_npc_prompt(world, kingdom, town): \n",
    "    return f\"\"\"\n",
    "    Create 3 different characters based on the world, kingdom \\\n",
    "    and town they're in. Describe the character's appearance and \\\n",
    "    profession, as well as their deeper pains and desires. \\\n",
    "    \n",
    "    Output content in the form:\n",
    "    Character 1 Name: <CHARACTER NAME>\n",
    "    Character 1 Description: <CHARACTER DESCRIPTION>\n",
    "    Character 2 Name: <CHARACTER NAME>\n",
    "    Character 2 Description: <CHARACTER DESCRIPTION>\n",
    "    Character 3 Name: <CHARACTER NAME>\n",
    "    Character 3 Description: <CHARACTER DESCRIPTION>\n",
    "    \n",
    "    World Name: {world['name']}\n",
    "    World Description: {world['description']}\n",
    "    \n",
    "    Kingdom Name: {kingdom['name']}\n",
    "    Kingdom Description: {kingdom['description']}\n",
    "    \n",
    "    Town Name: {town['name']}\n",
    "    Town Description: {town['description']}\n",
    "    \n",
    "    Character 1 Name:\"\"\""
   ]
  },
  {
   "cell_type": "code",
   "execution_count": 43,
   "id": "c4745333-ccd8-4d84-a300-cf5812080869",
   "metadata": {},
   "outputs": [],
   "source": [
    "# generating npcs\n",
    "\n",
    "def create_npcs(world, kingdom, town):\n",
    "    print(f'\\nCreating characters for the town of: {town[\"name\"]}...')\n",
    "    output = client.chat.completions.create(\n",
    "        model=\"meta-llama/Llama-3-70b-chat-hf\",\n",
    "        messages=[\n",
    "            {\"role\": \"system\", \"content\": system_prompt},\n",
    "            {\"role\": \"user\", \"content\": get_npc_prompt(world, kingdom, town)}\n",
    "        ],\n",
    "        # setting to 1 instead of zero, so have more variation in what is created\n",
    "        temperature=1  \n",
    "    )\n",
    "\n",
    "    npcs_output = output.choices[0].message.content\n",
    "    npcs = {}\n",
    "    for output in npcs_output.split('\\n\\n'):\n",
    "        npc_name = output.strip().split('\\n')[0]\\\n",
    "        .split('Name: ')[1].strip()\n",
    "        print(f'- \"{npc_name}\" created')\n",
    "        \n",
    "        npc_description = output.strip().split('\\n')[1\\\n",
    "        ].split('Description: ')[1].strip()\n",
    "        \n",
    "        npc = {\n",
    "        \"name\": npc_name,\n",
    "        \"description\": npc_description,\n",
    "        \"world\": world['name'],\n",
    "        \"kingdom\": kingdom['name'],\n",
    "        \"town\": town['name']\n",
    "        }\n",
    "        npcs[npc_name] = npc\n",
    "    town[\"npcs\"] = npcs"
   ]
  },
  {
   "cell_type": "code",
   "execution_count": 44,
   "id": "207662bb-fc09-4c46-8c37-d9e492fa3ef4",
   "metadata": {},
   "outputs": [
    {
     "name": "stdout",
     "output_type": "stream",
     "text": [
      "\n",
      "Creating characters for the town of: Nova Haven...\n",
      "- \"Kaelin Darkhunter\" created\n",
      "- \"Sofia Argent\" created\n",
      "- \"Cassius Eldrid\" created\n",
      "\n",
      "Creating characters for the town of: Luminaria...\n",
      "- \"Kaida Blackwood\" created\n",
      "- \"Captain Ryker Stonefist\" created\n",
      "- \"Elwyn Moonwhisper\" created\n",
      "\n",
      "Creating characters for the town of: Ironhollow...\n",
      "- \"Kaelin Stonefist\" created\n",
      "- \"Lyrien Eldrid\" created\n",
      "- \"Arin the Wild\" created\n"
     ]
    }
   ],
   "source": [
    "for kingdom in kingdoms.values():\n",
    "    for town in kingdom['towns'].values():\n",
    "        create_npcs(world, kingdom, town)\n",
    "    break"
   ]
  },
  {
   "cell_type": "code",
   "execution_count": 45,
   "id": "ba6ceb1e-e24d-44a4-9efc-4c00fdb3bd4f",
   "metadata": {},
   "outputs": [
    {
     "name": "stdout",
     "output_type": "stream",
     "text": [
      "\n",
      "NPC 1 in Ironhollow, Eldrida:\n",
      "Kaelin is a rugged, battle-hardened inventor from Ironhollow, with a thick beard and arms covered in soot and oil stains. He wears a leather apron over his worn clothing, and his eyes gleam with a passion for creation. As a master craftsman, Kaelin has dedicated his life to harnessing Arkeia's power to build machines that can protect the people of Ironhollow from the dangers of the surface world. However, his drive for innovation is motivated by a deep-seated fear of losing loved ones to the Colossi's unpredictable migrations.\n"
     ]
    }
   ],
   "source": [
    "npc = list(town['npcs'].values())[0]\n",
    "\n",
    "print(f'\\nNPC 1 in {town[\"name\"]}, \\\n",
    "{kingdom[\"name\"]}:\\n{npc[\"description\"]}')"
   ]
  },
  {
   "cell_type": "markdown",
   "id": "5caeeeb1-a7a3-4bd4-943d-0b0ca76f7aa3",
   "metadata": {},
   "source": [
    "### Save our World"
   ]
  },
  {
   "cell_type": "code",
   "execution_count": 48,
   "id": "5759bd2f-29dc-44c8-ab27-e84ff40e8278",
   "metadata": {},
   "outputs": [],
   "source": [
    "import json\n",
    "\n",
    "def save_world(world, filename):\n",
    "    with open(filename, 'w') as f:\n",
    "        json.dump(world, f)\n",
    "\n",
    "def load_world(filename):\n",
    "    with open(filename, 'r') as f:\n",
    "        return json.load(f)\n",
    "\n",
    "save_world(world, '/Users/sarvzz//Desktop/AI-Game-Creator/Kyropeia.json')"
   ]
  },
  {
   "cell_type": "code",
   "execution_count": null,
   "id": "1cd1a2ab-a3d5-46b4-a346-6d975b50ca65",
   "metadata": {},
   "outputs": [],
   "source": []
  }
 ],
 "metadata": {
  "kernelspec": {
   "display_name": "Python 3 (ipykernel)",
   "language": "python",
   "name": "python3"
  },
  "language_info": {
   "codemirror_mode": {
    "name": "ipython",
    "version": 3
   },
   "file_extension": ".py",
   "mimetype": "text/x-python",
   "name": "python",
   "nbconvert_exporter": "python",
   "pygments_lexer": "ipython3",
   "version": "3.11.4"
  }
 },
 "nbformat": 4,
 "nbformat_minor": 5
}
