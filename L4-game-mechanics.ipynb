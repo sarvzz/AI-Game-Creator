{
 "cells": [
  {
   "cell_type": "markdown",
   "id": "6246f356-b5cb-45f7-8401-6af625cc7f46",
   "metadata": {},
   "source": [
    "#### Importance of State\n",
    "- Improves memory\n",
    "- Gives clear progression (ie. inventory)\n",
    "- Allows better constraints (ie. use of the inventory)\n",
    "- Allows implementation of interesting mechanics\n",
    "- Allows better UI experience"
   ]
  },
  {
   "cell_type": "markdown",
   "id": "fb629cc0-16d1-48c1-b9a3-4c7635c76aee",
   "metadata": {},
   "source": [
    "### Define Inventory Detector"
   ]
  },
  {
   "cell_type": "code",
   "execution_count": 1,
   "id": "7f410300-96b2-4d88-837f-29b39c2ce2f6",
   "metadata": {},
   "outputs": [],
   "source": [
    "system_prompt = \"\"\"You are an AI Game Assistant. \\\n",
    "Your job is to detect changes to a player's \\\n",
    "inventory based on the most recent story and game state.\n",
    "If a player picks up, or gains an item add it to the inventory \\\n",
    "with a positive change_amount.\n",
    "If a player loses an item remove it from their inventory \\\n",
    "with a negative change_amount.\n",
    "Given a player name, inventory and story, return a list of json update\n",
    "of the player's inventory in the following form.\n",
    "Only take items that it's clear the player (you) lost.\n",
    "Only give items that it's clear the player gained. \n",
    "Don't make any other item updates.\n",
    "If no items were changed return {\"itemUpdates\": []}\n",
    "and nothing else.\n",
    "\n",
    "Response must be in Valid JSON\n",
    "Don't add items that were already added in the inventory\n",
    "\n",
    "Inventory Updates:\n",
    "{\n",
    "    \"itemUpdates\": [\n",
    "        {\"name\": <ITEM NAME>, \n",
    "        \"change_amount\": <CHANGE AMOUNT>}...\n",
    "    ]\n",
    "}\n",
    "\"\"\""
   ]
  },
  {
   "cell_type": "code",
   "execution_count": 2,
   "id": "d90cc14c-ac34-48b6-a92a-ab584d0ce05e",
   "metadata": {},
   "outputs": [],
   "source": [
    "import json\n",
    "from helper import get_together_api_key, load_env\n",
    "from together import Together\n",
    "\n",
    "client = Together(api_key=get_together_api_key())"
   ]
  },
  {
   "cell_type": "code",
   "execution_count": 3,
   "id": "13394d5a-be82-493e-bdf8-33e1c899ce60",
   "metadata": {},
   "outputs": [],
   "source": [
    "def detect_inventory_changes(game_state, output):\n",
    "    \n",
    "    inventory = game_state['inventory']\n",
    "    messages = [\n",
    "        {\"role\": \"system\", \"content\": system_prompt},\n",
    "        {\"role\": \"user\", \"content\": \n",
    "         f'Current Inventory: {str(inventory)}'},\n",
    "        \n",
    "        {\"role\": \"user\", \"content\": f'Recent Story: {output}'},\n",
    "        {\"role\": \"user\", \"content\": 'Inventory Updates'}\n",
    "    ]\n",
    "    chat_completion = client.chat.completions.create(\n",
    "        # response_format={\"type\": \"json_object\", \"schema\": InventoryUpdate.model_json_schema()},\n",
    "        model=\"meta-llama/Llama-3-70b-chat-hf\",\n",
    "        temperature=0.0,\n",
    "        messages=messages\n",
    "    )\n",
    "    response = chat_completion.choices[0].message.content\n",
    "    result = json.loads(response)\n",
    "    return result['itemUpdates']"
   ]
  },
  {
   "cell_type": "code",
   "execution_count": 4,
   "id": "a19f0119-7eba-4a37-b844-7455ee02d1a9",
   "metadata": {},
   "outputs": [
    {
     "name": "stdout",
     "output_type": "stream",
     "text": [
      "[{'name': 'sword', 'change_amount': 1}, {'name': 'gold', 'change_amount': -5}]\n"
     ]
    }
   ],
   "source": [
    "from helper import get_game_state\n",
    "\n",
    "game_state = get_game_state()\n",
    "game_state['inventory'] = {\n",
    "    \"cloth pants\": 1,\n",
    "    \"cloth shirt\": 1,\n",
    "    \"gold\": 5\n",
    "}\n",
    "\n",
    "result = detect_inventory_changes(game_state, \n",
    "\"You buy a sword from the merchant for 5 gold\")\n",
    "\n",
    "print(result)"
   ]
  },
  {
   "cell_type": "code",
   "execution_count": 5,
   "id": "30e4e880-6526-4101-b8c9-e2a5c4e08d07",
   "metadata": {},
   "outputs": [],
   "source": [
    "def update_inventory(inventory, item_updates):\n",
    "    update_msg = ''\n",
    "    \n",
    "    for update in item_updates:\n",
    "        name = update['name']\n",
    "        change_amount = update['change_amount']\n",
    "        \n",
    "        if change_amount > 0:\n",
    "            if name not in inventory:\n",
    "                inventory[name] = change_amount\n",
    "            else:\n",
    "                inventory[name] += change_amount\n",
    "            update_msg += f'\\nInventory: {name} +{change_amount}'\n",
    "        elif name in inventory and change_amount < 0:\n",
    "            inventory[name] += change_amount\n",
    "            update_msg += f'\\nInventory: {name} {change_amount}'\n",
    "            \n",
    "        if name in inventory and inventory[name] < 0:\n",
    "            del inventory[name]\n",
    "            \n",
    "    return update_msg\n"
   ]
  },
  {
   "cell_type": "markdown",
   "id": "dc64dbed-5de1-43a5-a445-3eeab069c491",
   "metadata": {},
   "source": [
    "### Now include inventory in the story"
   ]
  },
  {
   "cell_type": "code",
   "execution_count": 6,
   "id": "2f5a29b1-fc87-4ac8-bf1f-051092c9b989",
   "metadata": {},
   "outputs": [],
   "source": [
    "def run_action(message, history, game_state):\n",
    "    \n",
    "    if(message == 'start game'):\n",
    "        return game_state['start']\n",
    "        \n",
    "    system_prompt = \"\"\"You are an AI Game master. Your job is to write what \\\n",
    "happens next in a player's adventure game.\\\n",
    "Instructions: \\\n",
    "You must on only write 1-3 sentences in response. \\\n",
    "Always write in second person present tense. \\\n",
    "Ex. (You look north and see...) \\\n",
    "Don't let the player use items they don't have in their inventory.\n",
    "\"\"\"\n",
    "\n",
    "    world_info = f\"\"\"\n",
    "World: {game_state['world']}\n",
    "Kingdom: {game_state['kingdom']}\n",
    "Town: {game_state['town']}\n",
    "Your Character:  {game_state['character']}\n",
    "Inventory: {json.dumps(game_state['inventory'])}\"\"\"\n",
    "\n",
    "    messages = [\n",
    "        {\"role\": \"system\", \"content\": system_prompt},\n",
    "        {\"role\": \"user\", \"content\": world_info}\n",
    "    ]\n",
    "\n",
    "    for action in history:\n",
    "        messages.append({\"role\": \"assistant\", \"content\": action[0]})\n",
    "        messages.append({\"role\": \"user\", \"content\": action[1]})\n",
    "           \n",
    "    messages.append({\"role\": \"user\", \"content\": message})\n",
    "    client = Together(api_key=get_together_api_key())\n",
    "    model_output = client.chat.completions.create(\n",
    "        model=\"meta-llama/Llama-3-70b-chat-hf\",\n",
    "        messages=messages\n",
    "    )\n",
    "    \n",
    "    result = model_output.choices[0].message.content\n",
    "    return result"
   ]
  },
  {
   "cell_type": "markdown",
   "id": "5452e6f9-638d-45a2-8293-a32badd07ae2",
   "metadata": {},
   "source": [
    "### Integrate into the Game"
   ]
  },
  {
   "cell_type": "code",
   "execution_count": 7,
   "id": "06bf217f-54fc-45d2-8c71-caad3eb8e322",
   "metadata": {},
   "outputs": [],
   "source": [
    "from helper import start_game, get_game_state, is_safe\n",
    "game_state = get_game_state(inventory={\n",
    "    \"cloth pants\": 1,\n",
    "    \"cloth shirt\": 1,\n",
    "    \"goggles\": 1,\n",
    "    \"leather bound journal\": 1,\n",
    "    \"gold\": 5\n",
    "})"
   ]
  },
  {
   "cell_type": "code",
   "execution_count": 8,
   "id": "7f926158-110e-4a93-a67f-f4b17fb6bbba",
   "metadata": {},
   "outputs": [
    {
     "name": "stderr",
     "output_type": "stream",
     "text": [
      "ERROR:    [Errno 48] error while attempting to bind on address ('0.0.0.0', 7860): address already in use\n",
      "ERROR:    [Errno 48] error while attempting to bind on address ('0.0.0.0', 7861): address already in use\n",
      "ERROR:    [Errno 48] error while attempting to bind on address ('0.0.0.0', 7862): address already in use\n",
      "ERROR:    [Errno 48] error while attempting to bind on address ('0.0.0.0', 7863): address already in use\n"
     ]
    },
    {
     "name": "stdout",
     "output_type": "stream",
     "text": [
      "Running on local URL:  http://0.0.0.0:7864\n",
      "Running on public URL: https://2aabad3c4cb9cb029b.gradio.live\n",
      "\n",
      "This share link expires in 72 hours. For free permanent hosting and GPU upgrades, run `gradio deploy` from Terminal to deploy to Spaces (https://huggingface.co/spaces)\n"
     ]
    },
    {
     "data": {
      "text/html": [
       "<div><iframe src=\"https://2aabad3c4cb9cb029b.gradio.live\" width=\"100%\" height=\"500\" allow=\"autoplay; camera; microphone; clipboard-read; clipboard-write;\" frameborder=\"0\" allowfullscreen></iframe></div>"
      ],
      "text/plain": [
       "<IPython.core.display.HTML object>"
      ]
     },
     "metadata": {},
     "output_type": "display_data"
    }
   ],
   "source": [
    "def main_loop(message, history):\n",
    "    output = run_action(message, history, game_state)\n",
    "    \n",
    "    safe = is_safe(output)\n",
    "    if not safe:\n",
    "        return 'Invalid Output'\n",
    "\n",
    "    item_updates = detect_inventory_changes(game_state, output)\n",
    "    update_msg = update_inventory(\n",
    "        game_state['inventory'], \n",
    "        item_updates\n",
    "    )\n",
    "    output += update_msg\n",
    "\n",
    "    return output\n",
    "\n",
    "start_game(main_loop, True)"
   ]
  },
  {
   "cell_type": "code",
   "execution_count": null,
   "id": "811218dd-3286-4042-a1d3-c839d462d4c2",
   "metadata": {},
   "outputs": [],
   "source": []
  }
 ],
 "metadata": {
  "kernelspec": {
   "display_name": "Python 3 (ipykernel)",
   "language": "python",
   "name": "python3"
  },
  "language_info": {
   "codemirror_mode": {
    "name": "ipython",
    "version": 3
   },
   "file_extension": ".py",
   "mimetype": "text/x-python",
   "name": "python",
   "nbconvert_exporter": "python",
   "pygments_lexer": "ipython3",
   "version": "3.11.4"
  }
 },
 "nbformat": 4,
 "nbformat_minor": 5
}
