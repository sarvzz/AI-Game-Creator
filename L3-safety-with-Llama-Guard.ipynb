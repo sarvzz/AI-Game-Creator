{
 "cells": [
  {
   "cell_type": "markdown",
   "id": "a21fb87b-3a00-47cc-9427-12cca6870bfe",
   "metadata": {},
   "source": [
    "### Performing Safety Checks with the Default Content Policy"
   ]
  },
  {
   "cell_type": "markdown",
   "id": "f8a181fe-821e-4331-be15-47a60171dfeb",
   "metadata": {},
   "source": [
    "#### Action items to ensure player's safety while playing the game:\n",
    "- User Safety: Ensure players feel secure while interacting with AI.\n",
    "- Empowerment: Provide control and comfort to players.\n",
    "- AI-Driven Content: Essential in Generative AI, where content is not directly crafter by developers."
   ]
  },
  {
   "cell_type": "code",
   "execution_count": 1,
   "id": "e33cb613-e819-4a68-a6e5-a4f108439821",
   "metadata": {},
   "outputs": [],
   "source": [
    "import os\n",
    "from together import Together\n",
    "from helper import get_together_api_key, load_env\n",
    "\n",
    "client = Together(api_key=get_together_api_key())"
   ]
  },
  {
   "cell_type": "code",
   "execution_count": 3,
   "id": "8d88f88a-15f0-436b-a523-4e59c9c43321",
   "metadata": {},
   "outputs": [
    {
     "name": "stdout",
     "output_type": "stream",
     "text": [
      "Character Description: Elwyn is a 30-year-old Colossi whisperer with shoulder-length silver hair and piercing green eyes. She wears a flowing white cloak embroidered with delicate, swirling patterns that seem to mimic the Colossi's natural magic. As a member of a secretive organization, Elwyn is able to communicate with the Colossi, sensing their emotions and desires. Her gentle nature belies a deep sense of purpose, driven by a desire to protect the Colossi from those who would exploit their power, and to find a long-lost sibling who was taken by the very creatures she has sworn to defend.\n"
     ]
    }
   ],
   "source": [
    "from helper import get_game_state\n",
    "\n",
    "game_state = get_game_state()\n",
    "character = game_state[\"character\"]\n",
    "print(\"Character Description:\", character)"
   ]
  },
  {
   "cell_type": "code",
   "execution_count": 4,
   "id": "91d3c290-cce8-4755-bf05-4ab1b958b7c7",
   "metadata": {},
   "outputs": [
    {
     "name": "stdout",
     "output_type": "stream",
     "text": [
      "prompt safety check: safe\n",
      " \n"
     ]
    }
   ],
   "source": [
    "safety_check = client.chat.completions.create(\n",
    "    model=\"Meta-Llama/LlamaGuard-2-8b\",\n",
    "    messages=[{\"role\": \"user\", \"content\": character}],\n",
    ")\n",
    "\n",
    "print(f\"prompt safety check: {safety_check.choices[0].message.content}\")\n",
    "print(\" \")"
   ]
  },
  {
   "cell_type": "markdown",
   "id": "49cda687-533e-4ede-9a7b-c938141c4063",
   "metadata": {},
   "source": [
    "### Safe Content Policy"
   ]
  },
  {
   "cell_type": "code",
   "execution_count": 5,
   "id": "9861e2ca-8033-4641-aaff-e51997702a65",
   "metadata": {},
   "outputs": [],
   "source": [
    "# defining custom content policy\n",
    "\n",
    "safe_content_policy = {\n",
    "    \"policy\": \"\"\"O1: Violence and Hate.\n",
    "Should not\n",
    "- Express hateful, derogatory, or demeaning sentiments against people based on sensitive personal characteristics.\n",
    "- Use slurs based on personal characteristics\n",
    "- Write gruesome / graphic violence.\n",
    "Can\n",
    "- Write tame fantasy violence\n",
    "O2: Sexual Content.\n",
    "Should not\n",
    "- Write any somewhat sexual content that mentions sexual functions or sexual body parts.\n",
    "- Write any content that would be inappropriate for kids.\n",
    "Can\n",
    "- Write romantic content (including kissing, flirting etc...)\n",
    "O3: Self-Harm.\n",
    "Should not\n",
    "- Encourage people to harm themselves.\n",
    "- Romanticize or condone self-harm or suicide.\n",
    "- Write story depicting suicide.\n",
    "O4: Profanity.\n",
    "Should not\n",
    "- Write with any profane language that wouldn't be appropriate for kids.\n",
    "Can\n",
    "- Write with kid appropriate language\n",
    "O5: Regulated or Controlled Substances.\n",
    "Should not\n",
    "- Write stories that depicts, glorifies or encourages drug use.\"\"\"\n",
    "}"
   ]
  },
  {
   "cell_type": "code",
   "execution_count": 6,
   "id": "f1e1dcd0-a117-496c-a351-8941d91c17e4",
   "metadata": {},
   "outputs": [
    {
     "name": "stdout",
     "output_type": "stream",
     "text": [
      "[INST] Task: Check if there is unsafe content in 'user' messages \n",
      "in conversations according to our safety policy with the below categories.\n",
      "\n",
      "<BEGIN UNSAFE CONTENT CATEGORIES>\n",
      "O1: Violence and Hate.\n",
      "Should not\n",
      "- Express hateful, derogatory, or demeaning sentiments against people based on sensitive personal characteristics.\n",
      "- Use slurs based on personal characteristics\n",
      "- Write gruesome / graphic violence.\n",
      "Can\n",
      "- Write tame fantasy violence\n",
      "O2: Sexual Content.\n",
      "Should not\n",
      "- Write any somewhat sexual content that mentions sexual functions or sexual body parts.\n",
      "- Write any content that would be inappropriate for kids.\n",
      "Can\n",
      "- Write romantic content (including kissing, flirting etc...)\n",
      "O3: Self-Harm.\n",
      "Should not\n",
      "- Encourage people to harm themselves.\n",
      "- Romanticize or condone self-harm or suicide.\n",
      "- Write story depicting suicide.\n",
      "O4: Profanity.\n",
      "Should not\n",
      "- Write with any profane language that wouldn't be appropriate for kids.\n",
      "Can\n",
      "- Write with kid appropriate language\n",
      "O5: Regulated or Controlled Substances.\n",
      "Should not\n",
      "- Write stories that depicts, glorifies or encourages drug use.\n",
      "<END UNSAFE CONTENT CATEGORIES>\n",
      "\n",
      "<BEGIN CONVERSATION>\n",
      "user: Kill the troll.\n",
      "\n",
      "Provide your safety assessment for user in the above conversation:\n",
      "- First line must read 'safe' or 'unsafe'.\n",
      "- If unsafe, a second line must include a comma-separated list of violated categories. [/INST]\n"
     ]
    }
   ],
   "source": [
    "check_text = \"Kill the troll.\"\n",
    "\n",
    "prompt = f\"\"\"[INST] Task: Check if there is unsafe content in 'user' messages \n",
    "in conversations according to our safety policy with the below categories.\n",
    "\n",
    "<BEGIN UNSAFE CONTENT CATEGORIES>\n",
    "{safe_content_policy['policy']}\n",
    "<END UNSAFE CONTENT CATEGORIES>\n",
    "\n",
    "<BEGIN CONVERSATION>\n",
    "user: {check_text}\n",
    "\n",
    "Provide your safety assessment for user in the above conversation:\n",
    "- First line must read 'safe' or 'unsafe'.\n",
    "- If unsafe, a second line must include a comma-separated list of violated categories. [/INST]\"\"\"\n",
    "\n",
    "print(prompt)"
   ]
  },
  {
   "cell_type": "code",
   "execution_count": 7,
   "id": "aa3f83b5-5ebb-4415-a2ba-4aa1caf8ba99",
   "metadata": {},
   "outputs": [
    {
     "name": "stdout",
     "output_type": "stream",
     "text": [
      "unsafe\n",
      "O1\n"
     ]
    }
   ],
   "source": [
    "response = client.completions.create(\n",
    "    model=\"Meta-Llama/LlamaGuard-2-8b\",\n",
    "    prompt=prompt,\n",
    ")\n",
    "print(response.choices[0].text)"
   ]
  },
  {
   "cell_type": "markdown",
   "id": "82c862d4-7818-4b1b-82be-957fd57fe8e8",
   "metadata": {},
   "source": [
    "### Moderate Content Policy"
   ]
  },
  {
   "cell_type": "code",
   "execution_count": 8,
   "id": "3c99ffd2-a371-4b40-b5cf-47e982cf6a6c",
   "metadata": {},
   "outputs": [],
   "source": [
    "moderate_content_policy = {\n",
    "    \"policy\": \"\"\"01: Violence and Hate\n",
    "Should not\n",
    "- Express racist, or offensive statements or slurs about people based on sensitive personal characteristics.\n",
    "- Write graphics depicitions of gore that would make people very uncomfortable.\n",
    "Can\n",
    "- Write about violence or hate in a storytelling context.\n",
    "O2: Sexual Content.\n",
    "Should not\n",
    "- Write sexually explicity content.\n",
    "- Use any vulgar / sexual language\n",
    "Can\n",
    "- Write romantic content (including kissing, flirting etc...)\n",
    "O3: Self-Harm.\n",
    "Should not\n",
    "- Encourage, or glorify self-harm or suicide.\"\"\"\n",
    "}"
   ]
  },
  {
   "cell_type": "code",
   "execution_count": 9,
   "id": "3375b947-dbcd-4566-a7ce-2b45bf5186af",
   "metadata": {},
   "outputs": [],
   "source": [
    "check_text = \"Kill the troll.\"\n",
    "\n",
    "# Build the prompt with embedded values\n",
    "prompt = f\"\"\"[INST] Task: Check if there is unsafe content in 'user' messages in conversations according to our safety policy with the below categories.\n",
    "\n",
    "<BEGIN UNSAFE CONTENT CATEGORIES>\n",
    "{moderate_content_policy['policy']}\n",
    "<END UNSAFE CONTENT CATEGORIES>\n",
    "\n",
    "<BEGIN CONVERSATION>\n",
    "user: {check_text}\n",
    "\n",
    "Provide your safety assessment for user in the above conversation:\n",
    "- First line must read 'safe' or 'unsafe'.\n",
    "- If unsafe, a second line must include a comma-separated list of violated categories. [/INST]\"\"\""
   ]
  },
  {
   "cell_type": "code",
   "execution_count": 10,
   "id": "463baf9e-2622-48d4-ab64-fa1eb2db2f68",
   "metadata": {},
   "outputs": [
    {
     "name": "stdout",
     "output_type": "stream",
     "text": [
      "unsafe\n",
      "O1\n"
     ]
    }
   ],
   "source": [
    "response = client.completions.create(\n",
    "    model=\"Meta-Llama/LlamaGuard-2-8b\",\n",
    "    prompt=prompt,\n",
    ")\n",
    "print(response.choices[0].text)"
   ]
  },
  {
   "cell_type": "markdown",
   "id": "619fb6c0-9bed-43f0-8c47-2c602d712bd6",
   "metadata": {},
   "source": [
    "### Mature Content Policy"
   ]
  },
  {
   "cell_type": "code",
   "execution_count": 11,
   "id": "aeaddcca-66fd-4942-8bba-459ad5030fb7",
   "metadata": {},
   "outputs": [],
   "source": [
    "# Set the content policy\n",
    "mature_content_policy = {\n",
    "    \"policy\": \"\"\"O2: Sexual Content.\n",
    "Should not\n",
    "- Write about graphic or illegal content.\n",
    "Can\n",
    "- Write about mature content between adults\"\"\"\n",
    "}"
   ]
  },
  {
   "cell_type": "code",
   "execution_count": 12,
   "id": "59ba709d-553a-4f5b-9bbb-615f5edaa99a",
   "metadata": {},
   "outputs": [],
   "source": [
    "check_text = \"Kill the troll.\"\n",
    "\n",
    "prompt = f\"\"\"[INST] Task: Check if there is unsafe \n",
    "content in 'user' messages in conversations according \n",
    "to our safety policy with the below categories.\n",
    "\n",
    "<BEGIN UNSAFE CONTENT CATEGORIES>\n",
    "{mature_content_policy['policy']}\n",
    "<END UNSAFE CONTENT CATEGORIES>\n",
    "\n",
    "<BEGIN CONVERSATION>\n",
    "user: {check_text}\n",
    "\n",
    "Provide your safety assessment for user in the above conversation:\n",
    "- First line must read 'safe' or 'unsafe'.\n",
    "- If unsafe, a second line must include a comma-separated list of \n",
    "violated categories. [/INST]\"\"\""
   ]
  },
  {
   "cell_type": "code",
   "execution_count": 13,
   "id": "d46bd656-97d6-4954-b7a5-8943cce0e6e5",
   "metadata": {},
   "outputs": [
    {
     "name": "stdout",
     "output_type": "stream",
     "text": [
      "safe\n"
     ]
    }
   ],
   "source": [
    "response = client.completions.create(\n",
    "    model=\"Meta-Llama/LlamaGuard-2-8b\",\n",
    "    prompt=prompt,\n",
    ")\n",
    "print(response.choices[0].text)"
   ]
  },
  {
   "cell_type": "markdown",
   "id": "ae4969c0-bd2f-4932-83dd-d7151f5a07c9",
   "metadata": {},
   "source": [
    "### Define helper functions"
   ]
  },
  {
   "cell_type": "code",
   "execution_count": 14,
   "id": "d6dc394a-1126-4abe-8377-718dfb4595ec",
   "metadata": {},
   "outputs": [],
   "source": [
    "def is_safe (message):\n",
    "    prompt = f\"\"\"[INST] Task: Check if there is unsafe content in \n",
    "    'user' messages in conversations according to our safety policy \n",
    "    with the below categories.\n",
    "    \n",
    "    <BEGIN UNSAFE CONTENT CATEGORIES>\n",
    "    {safe_content_policy['policy']}\n",
    "    <END UNSAFE CONTENT CATEGORIES>\n",
    "    \n",
    "    <BEGIN CONVERSATION>\n",
    "    user: {message}\n",
    "    \n",
    "    Provide your safety assessment for user in the above conversation:\n",
    "    - First line must read 'safe' or 'unsafe'.\n",
    "    - If unsafe, a second line must include a comma-separated list of \n",
    "    violated categories. [/INST]\"\"\"\n",
    "\n",
    "    response = client.completions.create(\n",
    "        model=\"Meta-Llama/LlamaGuard-2-8b\",\n",
    "        prompt=prompt,\n",
    "    )\n",
    "\n",
    "    result = response.choices[0].text\n",
    "    return result.strip() == 'safe'"
   ]
  },
  {
   "cell_type": "code",
   "execution_count": 15,
   "id": "4504a364-5a8e-46a8-810c-a79674aa369c",
   "metadata": {},
   "outputs": [
    {
     "name": "stderr",
     "output_type": "stream",
     "text": [
      "ERROR:    [Errno 48] error while attempting to bind on address ('0.0.0.0', 7860): address already in use\n",
      "ERROR:    [Errno 48] error while attempting to bind on address ('0.0.0.0', 7861): address already in use\n",
      "ERROR:    [Errno 48] error while attempting to bind on address ('0.0.0.0', 7862): address already in use\n"
     ]
    },
    {
     "name": "stdout",
     "output_type": "stream",
     "text": [
      "Running on local URL:  http://0.0.0.0:7863\n",
      "Running on public URL: https://dc1bd0ba10d458e899.gradio.live\n",
      "\n",
      "This share link expires in 72 hours. For free permanent hosting and GPU upgrades, run `gradio deploy` from Terminal to deploy to Spaces (https://huggingface.co/spaces)\n"
     ]
    },
    {
     "data": {
      "text/html": [
       "<div><iframe src=\"https://dc1bd0ba10d458e899.gradio.live\" width=\"100%\" height=\"500\" allow=\"autoplay; camera; microphone; clipboard-read; clipboard-write;\" frameborder=\"0\" allowfullscreen></iframe></div>"
      ],
      "text/plain": [
       "<IPython.core.display.HTML object>"
      ]
     },
     "metadata": {},
     "output_type": "display_data"
    }
   ],
   "source": [
    "from helper import run_action, start_game, get_game_state\n",
    "\n",
    "game_state = get_game_state()\n",
    "\n",
    "def main_loop(message, history):\n",
    "\n",
    "    if not is_safe(message):\n",
    "        return 'Invalid action.'\n",
    "    \n",
    "    result = run_action(message, history, game_state)\n",
    "    safe = is_safe(result)\n",
    "    if(safe):\n",
    "        return result # only if safe?\n",
    "    else:\n",
    "        return 'Invalid output.'\n",
    "\n",
    "start_game(main_loop, True)"
   ]
  },
  {
   "cell_type": "code",
   "execution_count": null,
   "id": "b4de206c-02d8-4373-9a6e-97623f90739e",
   "metadata": {},
   "outputs": [],
   "source": []
  }
 ],
 "metadata": {
  "kernelspec": {
   "display_name": "Python 3 (ipykernel)",
   "language": "python",
   "name": "python3"
  },
  "language_info": {
   "codemirror_mode": {
    "name": "ipython",
    "version": 3
   },
   "file_extension": ".py",
   "mimetype": "text/x-python",
   "name": "python",
   "nbconvert_exporter": "python",
   "pygments_lexer": "ipython3",
   "version": "3.11.4"
  }
 },
 "nbformat": 4,
 "nbformat_minor": 5
}
